{
 "cells": [
  {
   "cell_type": "code",
   "execution_count": 1,
   "id": "initial_id",
   "metadata": {
    "collapsed": true,
    "ExecuteTime": {
     "end_time": "2024-07-21T16:15:15.777548Z",
     "start_time": "2024-07-21T16:15:15.764813Z"
    }
   },
   "outputs": [],
   "source": [
    "from src.wojak.redis.client import RedisClient, RedisConfig"
   ]
  },
  {
   "cell_type": "code",
   "outputs": [],
   "source": [
    "config = RedisConfig()\n",
    "client = RedisClient(config)"
   ],
   "metadata": {
    "collapsed": false,
    "ExecuteTime": {
     "end_time": "2024-07-21T16:15:15.780694Z",
     "start_time": "2024-07-21T16:15:15.776994Z"
    }
   },
   "id": "213059f5b25530da",
   "execution_count": 2
  },
  {
   "cell_type": "code",
   "outputs": [
    {
     "data": {
      "text/plain": "Response(comment=None, status=200, content=bar))"
     },
     "execution_count": 6,
     "metadata": {},
     "output_type": "execute_result"
    }
   ],
   "source": [
    "client.set('foo', 'bar')\n",
    "client.get('foo')"
   ],
   "metadata": {
    "collapsed": false,
    "ExecuteTime": {
     "end_time": "2024-07-21T16:15:43.246676Z",
     "start_time": "2024-07-21T16:15:43.240577Z"
    }
   },
   "id": "e1db630a835c5cb9",
   "execution_count": 6
  },
  {
   "cell_type": "code",
   "outputs": [
    {
     "data": {
      "text/plain": "0"
     },
     "execution_count": 8,
     "metadata": {},
     "output_type": "execute_result"
    }
   ],
   "source": [
    "client.redis.delete('foo')"
   ],
   "metadata": {
    "collapsed": false,
    "ExecuteTime": {
     "end_time": "2024-07-21T16:15:45.771407Z",
     "start_time": "2024-07-21T16:15:45.764767Z"
    }
   },
   "id": "c0c61d2f3d6bd971",
   "execution_count": 8
  },
  {
   "cell_type": "code",
   "outputs": [
    {
     "data": {
      "text/plain": "<src.wojak.common.response.Response at 0x105882830>"
     },
     "execution_count": 5,
     "metadata": {},
     "output_type": "execute_result"
    }
   ],
   "source": [
    "client.get('foo')\n"
   ],
   "metadata": {
    "collapsed": false,
    "ExecuteTime": {
     "end_time": "2024-07-21T16:14:42.051216Z",
     "start_time": "2024-07-21T16:14:42.045208Z"
    }
   },
   "id": "3174be732c0e7cfb",
   "execution_count": 5
  },
  {
   "cell_type": "code",
   "outputs": [],
   "source": [],
   "metadata": {
    "collapsed": false
   },
   "id": "619969d17167400a"
  }
 ],
 "metadata": {
  "kernelspec": {
   "display_name": "Python 3",
   "language": "python",
   "name": "python3"
  },
  "language_info": {
   "codemirror_mode": {
    "name": "ipython",
    "version": 2
   },
   "file_extension": ".py",
   "mimetype": "text/x-python",
   "name": "python",
   "nbconvert_exporter": "python",
   "pygments_lexer": "ipython2",
   "version": "2.7.6"
  }
 },
 "nbformat": 4,
 "nbformat_minor": 5
}
